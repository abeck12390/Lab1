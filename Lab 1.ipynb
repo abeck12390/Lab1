{
 "cells": [
  {
   "cell_type": "markdown",
   "id": "eb13e98b-52a2-4268-a9ff-6849d26659c0",
   "metadata": {},
   "source": [
    "\\section*{4.1 Bias Frames}\n",
    "Section 4.1 is the analysis for bias frames. In this we will calculate the amount of read out noise from the CCD and identify any hot pixels to be used for later calibration. I first loaded the bias fits file into python so to create a histogram.\n",
    "\n",
    "To find the average number of counts per pixel I used python to create a histogram of the number of counts per pixel of the bias image. When plotted with a log y-axis it is easier to determine where the majority of counts are, as there is a peak that is over two orders of magnitude higher than the background. For this set of data I decided to cut off any data points that had more than 1300 counts. The fraction of pixels that were over 1300 counts was $1.62 * 10^{-5}$. I used the width of this peak to determine where the cutoff for the data for the gaussian should be. For this bias image I used data between 950 counts and 1050 counts. Using all the pixels that had counts within that range I calculated the mean and standard deviation which were $\\mu = 985.9$ counts and $\\sigma = 8.1$ counts\n",
    "\n",
    "The gain listed in the images header was 2.06. Converting this to number of electrons results $N_{electrons}=GN_{counts}=8.1*2.06=16.7 \\,e-$. The listed read out noise on the spec sheet is $14.8e-$ "
   ]
  },
  {
   "cell_type": "code",
   "execution_count": 4,
   "id": "5ba35800-738b-46cc-b8db-855ba331320a",
   "metadata": {
    "tags": []
   },
   "outputs": [
    {
     "name": "stdout",
     "output_type": "stream",
     "text": [
      "fraction 1.621246337890625e-05\n",
      "mu 985.923783029866\n",
      "sig 8.098709046392562\n"
     ]
    }
   ],
   "source": [
    "import numpy as np\n",
    "from astropy.io import fits\n",
    "import matplotlib\n",
    "matplotlib.use('TkAgg')\n",
    "import matplotlib.pyplot as plt\n",
    "from scipy import stats\n",
    "from scipy.stats import norm\n",
    "\n",
    "bias_image=fits.open('0cbias.FIT')\n",
    "bias_1d = bias_image[0].data.flatten()\n",
    "\n",
    "cmin=950\n",
    "cmax=1200\n",
    "nbins=100\n",
    "normalization=(cmax-cmin)/nbins*len(bias_1d[(bias_1d>=cmin) & (bias_1d<=cmax)])\n",
    "\n",
    "clipmin=cmin\n",
    "clipmax=1030\n",
    "clippedvalues = bias_1d[(bias_1d>=clipmin) & (bias_1d<=clipmax)]\n",
    "\n",
    "cutvalues = bias_1d[(bias_1d>=1300)]\n",
    "fraction_pix = len(cutvalues)/len(bias_1d)\n",
    "print(\"fraction \" + str(fraction_pix))\n",
    "\n",
    "mu=np.mean(clippedvalues)\n",
    "sig=np.std(clippedvalues)\n",
    "mode=stats.mode(clippedvalues)[0][0]\n",
    "\n",
    "print('mu ' + str(mu))\n",
    "print('sig ' + str(sig))\n",
    "\n",
    "xarray=np.linspace(cmin,cmax,nbins*10)\n",
    "yarray=normalization*norm.pdf(xarray,loc=mu, scale=sig)\n",
    "\n",
    "plt.hist(bias_1d,range=[cmin,cmax], bins=nbins);\n",
    "plt.yscale('log')\n",
    "plt.ylim([0.1,1e6])\n",
    "plt.plot(xarray,yarray,color=\"red\",linewidth=3.0)\n",
    "plt.axvline(x=mode,linewidth=3.0,color=\"yellow\")\n",
    "\n",
    "header = bias_image[0].header\n",
    "gain = header['EGAIN']\n",
    "muNelectron = gain * sig\n",
    "#print(muNelectron)\n",
    "\n",
    "plt.xlabel('Number of counts per pixel (e/p)')\n",
    "plt.ylabel('NUmber of pixels')\n",
    "\n",
    "\n",
    "plt.show()"
   ]
  },
  {
   "cell_type": "markdown",
   "id": "a572795f-a803-4100-9481-40a59910fca0",
   "metadata": {},
   "source": [
    "\\section{4.2 Dark Frames}"
   ]
  },
  {
   "cell_type": "markdown",
   "id": "e820d155-f5a2-4fc9-8cdc-68964c9bcc88",
   "metadata": {},
   "source": [
    "Part 1 Creating the master dark:\n",
    "To create the master dark I first loaded all 10 darks into python, then I could loop trhough every pixel and find the median count value from all 10 darks. That median was then loaded into a new master dark array and after evaluating over every pixel I had a new array whos data in each pixel was the median value. I then made a new master dark FITS file.\n",
    "The hotest pixels I found were at (199,496) and (330,410). These pixels were entirely saturated and had counts above 61,000. There were other hot pixels however they had counts roughly around 20,000. Every hot pixel I found was present on each of the ten darks as well as the master dark."
   ]
  },
  {
   "cell_type": "code",
   "execution_count": null,
   "id": "d758589e-7e05-4bdd-ac7d-06f3db168248",
   "metadata": {
    "tags": []
   },
   "outputs": [],
   "source": [
    "import numpy as np\n",
    "from astropy.io import fits\n",
    "data= np.zeros((10, 1024, 1024))\n",
    "master_dark = np.zeros((1024,1024))\n",
    "for i in range (0,10):\n",
    "    file = \"10dark_\" + str(i) +\".FIT\"\n",
    "    dark = fits.open(file)\n",
    "    current_dark=dark[0].data\n",
    "    #print(current_dark)\n",
    "    for n in range(0,1024):\n",
    "        for j in range(0,1024):\n",
    "            data[i,n,j]=current_dark[n,j]\n",
    "\n",
    "median_list=[]\n",
    "for n in range(0,1024):\n",
    "    for j in range(1024):\n",
    "        median_list.clear()\n",
    "        for i in range(0,10):\n",
    "            median_list.append(data[i,n,j])\n",
    "        master_dark[n,j] = np.median(median_list)\n",
    "print(master_dark)\n",
    "\n",
    "new_dark = fits.PrimaryHDU(master_dark)\n",
    "new_dark.writeto('master_dark.fits')"
   ]
  },
  {
   "cell_type": "markdown",
   "id": "16c13ea9-0d56-406a-bf29-2835bb2ee883",
   "metadata": {},
   "source": [
    "Part 2 Time series of dark frames\n",
    "The seven darks for this section all have different exposure times starting with picture 0 at 10 seconds and increasing by 20 seconds for each picture, ending at 130 seconds at picture 6. I started the analysis for this section by loading all seven FITS files into python arrays. Then I performed a similar step to the bias frame section to find the upper cutoff to make a gaussian. I started this by plotting each dark as a histogram by the number of counts with a logorithmic y axis. From this graph I could estimate the cutoff by using the width of the peak to find the upper cutoff. I estimated the cutoffs at 1025,1030,1050,1065,1075,1100,1120 for each of the darks. The number of counts detected increased as the exposure time increased. This is because there was more time for the dark current to register false counts even though there was no light hitting the detector. \n",
    "For the remaining data points within the cutoff I plotted them onto a gaussian and calculated the mean and standard deviation for each of the images. To find the uncertainty on the mean I used the formula $\\sigma_{\\bar{x}}=\\frac{\\sigma_x}{\\sqrt{N}}$, where $\\sigma_{\\bar{x}}$ is the uncertainty on the mean and N is the number of pixels in the image.\n",
    "\n",
    "I then made a scatter plot of average number of counts vs exposure time, with error bars that had length of $\\sigma_{\\bar{x}}$ and fit the plot with a line of best fit. \n",
    "\n",
    "To calculate the dark current per pixel per second I used the slope of the graph of average number of counts vs exposure time. I found that the $I_{dk}=N_{electrons}/\\Delta t=GN_{counts}/\\Delta t$. The slope of the graph is $N_{counts}/\\Delta t$ so then $I_{dk}=2.06*slope$. Plugging in my value for the slope I get $I_{dk}=1.296e^-/p/s$. The listed value for dark current at 0 celcius is $9e^-/p/s$"
   ]
  },
  {
   "cell_type": "code",
   "execution_count": 2,
   "id": "0c5f7e1a-a9e6-442e-98df-cb8ee7ab7a07",
   "metadata": {
    "tags": []
   },
   "outputs": [
    {
     "name": "stdout",
     "output_type": "stream",
     "text": [
      "dark current: 0.6484836552131683+-0.33281872606672236\n"
     ]
    },
    {
     "data": {
      "image/png": "[encoded data removed]",
      "text/plain": [
       "<Figure size 432x288 with 2 Axes>"
      ]
     },
     "metadata": {
      "needs_background": "light"
     },
     "output_type": "display_data"
    }
   ],
   "source": [
    "import numpy as np\n",
    "from astropy.io import fits\n",
    "import matplotlib\n",
    "matplotlib.use('TkAgg')\n",
    "import math\n",
    "import matplotlib.pyplot as plt\n",
    "from scipy import stats\n",
    "from scipy.stats import norm\n",
    "from scipy.optimize import curve_fit\n",
    "%matplotlib inline\n",
    "\n",
    "\n",
    "data= np.zeros((7, 1024, 1024))\n",
    "\n",
    "for i in range (0,7):\n",
    "    file = \"timedark\" + str(i) + \".FIT\"\n",
    "    timedark = fits.open(file)\n",
    "    current_dark=timedark[0].data\n",
    "    #print(current_dark)\n",
    "    for n in range(0,1024):\n",
    "        for j in range(0,1024):\n",
    "            data[i,n,j]=current_dark[n,j]\n",
    "\n",
    "\n",
    "\n",
    "upper_bound = [1025,1030,1050,1065,1075,1100,1120]\n",
    "\n",
    "data_within = []\n",
    "mu = []\n",
    "std = []\n",
    "statstd = []\n",
    "leftovermu = []\n",
    "for n in range(0,7):\n",
    "    current_data = data[n].flatten()\n",
    "    data_within.append(current_data[(current_data>=np.min(current_data)) & (current_data <= upper_bound[n])])\n",
    "\n",
    "    mu.append(np.average(data_within[n]))\n",
    "    std.append(np.std(data_within[n]))\n",
    "    statstd.append(std[n]/math.sqrt(len(data_within[n])))\n",
    "\n",
    "\n",
    "#print(mu)\n",
    "exptime = [10,30,50,70,90,110,130]\n",
    "\n",
    "#plt.errorbar(exptime, mu, yerr=statstd,fmt='o', label=\"data\")\n",
    "#plt.xlabel('Exposure time (s)')\n",
    "#plt.ylabel('Average number of counts')\n",
    "\n",
    "def func(x,a,b):\n",
    "    return a+b*x\n",
    "best_vals, covar = curve_fit(func, exptime, mu, sigma=statstd)\n",
    "a=best_vals[0]\n",
    "b=best_vals[1]\n",
    "\n",
    "a_list = [a,a,a,a,a,a,a]\n",
    "b_list = [b,b,b,b,b,b,b]\n",
    "x = np.linspace(0, 150, num=100)\n",
    "yfit = func(x,a,b)\n",
    "#plt.plot(x,yfit,label=\"fit\")\n",
    "residuals =[]\n",
    "for i in range(len(exptime)):\n",
    "    residuals.append(mu[i] - func(exptime[i],a,b))\n",
    "\n",
    "\n",
    "#print(residuals)\n",
    "#print(b)\n",
    "#plt.errorbar(exptime,residuals, yerr=statstd,fmt='o',label=\"residuals\")\n",
    "#errorbar(exptime, mu, yerr=statstd,fmt='o', label=\"data\")\n",
    "slope_sig = np.std(residuals)\n",
    "#print(str(b) +\"+-\"+ str(slope_sig))\n",
    "\n",
    "\n",
    "fig, ax = plt.subplots(2)\n",
    "#fig.errorbar(exptime, mu, yerr=statstd,fmt='o', label=\"data\")\n",
    "ax[0].plot(x,yfit,label=\"fit\")\n",
    "ax[0].errorbar(exptime, mu, yerr=statstd,fmt='o', label=\"data\")\n",
    "ax[1].errorbar(exptime,residuals, yerr=statstd,fmt='o',label=\"residuals\")\n",
    "\n",
    "ax[0].set_xlabel('Exposure time (s)')\n",
    "ax[0].set_ylabel('Average number of counts')\n",
    "ax[1].set_xlabel('Exposure time (s)')\n",
    "print('dark current: ' + str(b) +\"+-\"+ str(slope_sig))\n",
    "\n",
    "#ax.legend()\n",
    "\n",
    "plt.show()\n",
    "\n",
    "\n",
    "\n",
    "\n",
    "\n"
   ]
  },
  {
   "cell_type": "code",
   "execution_count": null,
   "id": "4fc57496-745d-44c7-a7a2-9a2efc065ffb",
   "metadata": {},
   "outputs": [],
   "source": []
  }
 ],
 "metadata": {
  "kernelspec": {
   "display_name": "Python 3 (ipykernel)",
   "language": "python",
   "name": "python3"
  },
  "language_info": {
   "codemirror_mode": {
    "name": "ipython",
    "version": 3
   },
   "file_extension": ".py",
   "mimetype": "text/x-python",
   "name": "python",
   "nbconvert_exporter": "python",
   "pygments_lexer": "ipython3",
   "version": "3.8.2"
  }
 },
 "nbformat": 4,
 "nbformat_minor": 5
}
